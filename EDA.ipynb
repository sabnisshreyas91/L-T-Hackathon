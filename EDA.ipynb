
#%%
import pandas as pd
import datetime
import matplotlib.pyplot as plt
import seaborn as sns


#%%
train = pd.read_csv("data/train_fwYjLYX.csv")
train['application_date'] = pd.to_datetime(train['application_date'])
train.head()

#%%
print("#Training rows",len(train))
print("Proportion of rows for each segment")
print(train.segment.value_counts(normalize=True))
print("Missing values plot")
sns.heatmap(train.isnull(), cbar=False)





#%%
